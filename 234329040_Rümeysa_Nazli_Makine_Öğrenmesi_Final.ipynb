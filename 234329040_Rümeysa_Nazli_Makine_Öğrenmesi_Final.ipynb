{
  "nbformat": 4,
  "nbformat_minor": 0,
  "metadata": {
    "colab": {
      "provenance": [],
      "authorship_tag": "ABX9TyP9EWM2QsZ8tSIFX7llMn+8",
      "include_colab_link": true
    },
    "kernelspec": {
      "name": "python3",
      "display_name": "Python 3"
    },
    "language_info": {
      "name": "python"
    }
  },
  "cells": [
    {
      "cell_type": "markdown",
      "metadata": {
        "id": "view-in-github",
        "colab_type": "text"
      },
      "source": [
        "<a href=\"https://colab.research.google.com/github/rmynzl/calismalarim/blob/main/234329040_R%C3%BCmeysa_Nazli_Makine_%C3%96%C4%9Frenmesi_Final.ipynb\" target=\"_parent\"><img src=\"https://colab.research.google.com/assets/colab-badge.svg\" alt=\"Open In Colab\"/></a>"
      ]
    },
    {
      "cell_type": "markdown",
      "source": [
        "# Veri Tanımlama ve Test Train Olarak Ayırma"
      ],
      "metadata": {
        "id": "KPvosEtTP4nw"
      }
    },
    {
      "cell_type": "code",
      "execution_count": 10,
      "metadata": {
        "colab": {
          "base_uri": "https://localhost:8080/",
          "height": 424
        },
        "id": "IRyRl39zN_g-",
        "outputId": "6d2a7117-e566-4a7b-d9d6-183daac78c2f"
      },
      "outputs": [
        {
          "output_type": "execute_result",
          "data": {
            "text/plain": [
              "     Glucose  BloodPressure  SkinThickness  Insulin   BMI  \\\n",
              "0        148             72             35        0  33.6   \n",
              "1         85             66             29        0  26.6   \n",
              "2        183             64              0        0  23.3   \n",
              "3         89             66             23       94  28.1   \n",
              "4        137             40             35      168  43.1   \n",
              "..       ...            ...            ...      ...   ...   \n",
              "763      101             76             48      180  32.9   \n",
              "764      122             70             27        0  36.8   \n",
              "765      121             72             23      112  26.2   \n",
              "766      126             60              0        0  30.1   \n",
              "767       93             70             31        0  30.4   \n",
              "\n",
              "     DiabetesPedigreeFunction  Age  Outcome  \n",
              "0                       0.627   50        1  \n",
              "1                       0.351   31        0  \n",
              "2                       0.672   32        1  \n",
              "3                       0.167   21        0  \n",
              "4                       2.288   33        1  \n",
              "..                        ...  ...      ...  \n",
              "763                     0.171   63        0  \n",
              "764                     0.340   27        0  \n",
              "765                     0.245   30        0  \n",
              "766                     0.349   47        1  \n",
              "767                     0.315   23        0  \n",
              "\n",
              "[768 rows x 8 columns]"
            ],
            "text/html": [
              "\n",
              "  <div id=\"df-05947074-d813-448a-bd42-8e138dfdceb7\" class=\"colab-df-container\">\n",
              "    <div>\n",
              "<style scoped>\n",
              "    .dataframe tbody tr th:only-of-type {\n",
              "        vertical-align: middle;\n",
              "    }\n",
              "\n",
              "    .dataframe tbody tr th {\n",
              "        vertical-align: top;\n",
              "    }\n",
              "\n",
              "    .dataframe thead th {\n",
              "        text-align: right;\n",
              "    }\n",
              "</style>\n",
              "<table border=\"1\" class=\"dataframe\">\n",
              "  <thead>\n",
              "    <tr style=\"text-align: right;\">\n",
              "      <th></th>\n",
              "      <th>Glucose</th>\n",
              "      <th>BloodPressure</th>\n",
              "      <th>SkinThickness</th>\n",
              "      <th>Insulin</th>\n",
              "      <th>BMI</th>\n",
              "      <th>DiabetesPedigreeFunction</th>\n",
              "      <th>Age</th>\n",
              "      <th>Outcome</th>\n",
              "    </tr>\n",
              "  </thead>\n",
              "  <tbody>\n",
              "    <tr>\n",
              "      <th>0</th>\n",
              "      <td>148</td>\n",
              "      <td>72</td>\n",
              "      <td>35</td>\n",
              "      <td>0</td>\n",
              "      <td>33.6</td>\n",
              "      <td>0.627</td>\n",
              "      <td>50</td>\n",
              "      <td>1</td>\n",
              "    </tr>\n",
              "    <tr>\n",
              "      <th>1</th>\n",
              "      <td>85</td>\n",
              "      <td>66</td>\n",
              "      <td>29</td>\n",
              "      <td>0</td>\n",
              "      <td>26.6</td>\n",
              "      <td>0.351</td>\n",
              "      <td>31</td>\n",
              "      <td>0</td>\n",
              "    </tr>\n",
              "    <tr>\n",
              "      <th>2</th>\n",
              "      <td>183</td>\n",
              "      <td>64</td>\n",
              "      <td>0</td>\n",
              "      <td>0</td>\n",
              "      <td>23.3</td>\n",
              "      <td>0.672</td>\n",
              "      <td>32</td>\n",
              "      <td>1</td>\n",
              "    </tr>\n",
              "    <tr>\n",
              "      <th>3</th>\n",
              "      <td>89</td>\n",
              "      <td>66</td>\n",
              "      <td>23</td>\n",
              "      <td>94</td>\n",
              "      <td>28.1</td>\n",
              "      <td>0.167</td>\n",
              "      <td>21</td>\n",
              "      <td>0</td>\n",
              "    </tr>\n",
              "    <tr>\n",
              "      <th>4</th>\n",
              "      <td>137</td>\n",
              "      <td>40</td>\n",
              "      <td>35</td>\n",
              "      <td>168</td>\n",
              "      <td>43.1</td>\n",
              "      <td>2.288</td>\n",
              "      <td>33</td>\n",
              "      <td>1</td>\n",
              "    </tr>\n",
              "    <tr>\n",
              "      <th>...</th>\n",
              "      <td>...</td>\n",
              "      <td>...</td>\n",
              "      <td>...</td>\n",
              "      <td>...</td>\n",
              "      <td>...</td>\n",
              "      <td>...</td>\n",
              "      <td>...</td>\n",
              "      <td>...</td>\n",
              "    </tr>\n",
              "    <tr>\n",
              "      <th>763</th>\n",
              "      <td>101</td>\n",
              "      <td>76</td>\n",
              "      <td>48</td>\n",
              "      <td>180</td>\n",
              "      <td>32.9</td>\n",
              "      <td>0.171</td>\n",
              "      <td>63</td>\n",
              "      <td>0</td>\n",
              "    </tr>\n",
              "    <tr>\n",
              "      <th>764</th>\n",
              "      <td>122</td>\n",
              "      <td>70</td>\n",
              "      <td>27</td>\n",
              "      <td>0</td>\n",
              "      <td>36.8</td>\n",
              "      <td>0.340</td>\n",
              "      <td>27</td>\n",
              "      <td>0</td>\n",
              "    </tr>\n",
              "    <tr>\n",
              "      <th>765</th>\n",
              "      <td>121</td>\n",
              "      <td>72</td>\n",
              "      <td>23</td>\n",
              "      <td>112</td>\n",
              "      <td>26.2</td>\n",
              "      <td>0.245</td>\n",
              "      <td>30</td>\n",
              "      <td>0</td>\n",
              "    </tr>\n",
              "    <tr>\n",
              "      <th>766</th>\n",
              "      <td>126</td>\n",
              "      <td>60</td>\n",
              "      <td>0</td>\n",
              "      <td>0</td>\n",
              "      <td>30.1</td>\n",
              "      <td>0.349</td>\n",
              "      <td>47</td>\n",
              "      <td>1</td>\n",
              "    </tr>\n",
              "    <tr>\n",
              "      <th>767</th>\n",
              "      <td>93</td>\n",
              "      <td>70</td>\n",
              "      <td>31</td>\n",
              "      <td>0</td>\n",
              "      <td>30.4</td>\n",
              "      <td>0.315</td>\n",
              "      <td>23</td>\n",
              "      <td>0</td>\n",
              "    </tr>\n",
              "  </tbody>\n",
              "</table>\n",
              "<p>768 rows × 8 columns</p>\n",
              "</div>\n",
              "    <div class=\"colab-df-buttons\">\n",
              "\n",
              "  <div class=\"colab-df-container\">\n",
              "    <button class=\"colab-df-convert\" onclick=\"convertToInteractive('df-05947074-d813-448a-bd42-8e138dfdceb7')\"\n",
              "            title=\"Convert this dataframe to an interactive table.\"\n",
              "            style=\"display:none;\">\n",
              "\n",
              "  <svg xmlns=\"http://www.w3.org/2000/svg\" height=\"24px\" viewBox=\"0 -960 960 960\">\n",
              "    <path d=\"M120-120v-720h720v720H120Zm60-500h600v-160H180v160Zm220 220h160v-160H400v160Zm0 220h160v-160H400v160ZM180-400h160v-160H180v160Zm440 0h160v-160H620v160ZM180-180h160v-160H180v160Zm440 0h160v-160H620v160Z\"/>\n",
              "  </svg>\n",
              "    </button>\n",
              "\n",
              "  <style>\n",
              "    .colab-df-container {\n",
              "      display:flex;\n",
              "      gap: 12px;\n",
              "    }\n",
              "\n",
              "    .colab-df-convert {\n",
              "      background-color: #E8F0FE;\n",
              "      border: none;\n",
              "      border-radius: 50%;\n",
              "      cursor: pointer;\n",
              "      display: none;\n",
              "      fill: #1967D2;\n",
              "      height: 32px;\n",
              "      padding: 0 0 0 0;\n",
              "      width: 32px;\n",
              "    }\n",
              "\n",
              "    .colab-df-convert:hover {\n",
              "      background-color: #E2EBFA;\n",
              "      box-shadow: 0px 1px 2px rgba(60, 64, 67, 0.3), 0px 1px 3px 1px rgba(60, 64, 67, 0.15);\n",
              "      fill: #174EA6;\n",
              "    }\n",
              "\n",
              "    .colab-df-buttons div {\n",
              "      margin-bottom: 4px;\n",
              "    }\n",
              "\n",
              "    [theme=dark] .colab-df-convert {\n",
              "      background-color: #3B4455;\n",
              "      fill: #D2E3FC;\n",
              "    }\n",
              "\n",
              "    [theme=dark] .colab-df-convert:hover {\n",
              "      background-color: #434B5C;\n",
              "      box-shadow: 0px 1px 3px 1px rgba(0, 0, 0, 0.15);\n",
              "      filter: drop-shadow(0px 1px 2px rgba(0, 0, 0, 0.3));\n",
              "      fill: #FFFFFF;\n",
              "    }\n",
              "  </style>\n",
              "\n",
              "    <script>\n",
              "      const buttonEl =\n",
              "        document.querySelector('#df-05947074-d813-448a-bd42-8e138dfdceb7 button.colab-df-convert');\n",
              "      buttonEl.style.display =\n",
              "        google.colab.kernel.accessAllowed ? 'block' : 'none';\n",
              "\n",
              "      async function convertToInteractive(key) {\n",
              "        const element = document.querySelector('#df-05947074-d813-448a-bd42-8e138dfdceb7');\n",
              "        const dataTable =\n",
              "          await google.colab.kernel.invokeFunction('convertToInteractive',\n",
              "                                                    [key], {});\n",
              "        if (!dataTable) return;\n",
              "\n",
              "        const docLinkHtml = 'Like what you see? Visit the ' +\n",
              "          '<a target=\"_blank\" href=https://colab.research.google.com/notebooks/data_table.ipynb>data table notebook</a>'\n",
              "          + ' to learn more about interactive tables.';\n",
              "        element.innerHTML = '';\n",
              "        dataTable['output_type'] = 'display_data';\n",
              "        await google.colab.output.renderOutput(dataTable, element);\n",
              "        const docLink = document.createElement('div');\n",
              "        docLink.innerHTML = docLinkHtml;\n",
              "        element.appendChild(docLink);\n",
              "      }\n",
              "    </script>\n",
              "  </div>\n",
              "\n",
              "\n",
              "<div id=\"df-e08f2bd2-95d2-47d0-8bfc-16ba39d739dd\">\n",
              "  <button class=\"colab-df-quickchart\" onclick=\"quickchart('df-e08f2bd2-95d2-47d0-8bfc-16ba39d739dd')\"\n",
              "            title=\"Suggest charts\"\n",
              "            style=\"display:none;\">\n",
              "\n",
              "<svg xmlns=\"http://www.w3.org/2000/svg\" height=\"24px\"viewBox=\"0 0 24 24\"\n",
              "     width=\"24px\">\n",
              "    <g>\n",
              "        <path d=\"M19 3H5c-1.1 0-2 .9-2 2v14c0 1.1.9 2 2 2h14c1.1 0 2-.9 2-2V5c0-1.1-.9-2-2-2zM9 17H7v-7h2v7zm4 0h-2V7h2v10zm4 0h-2v-4h2v4z\"/>\n",
              "    </g>\n",
              "</svg>\n",
              "  </button>\n",
              "\n",
              "<style>\n",
              "  .colab-df-quickchart {\n",
              "      --bg-color: #E8F0FE;\n",
              "      --fill-color: #1967D2;\n",
              "      --hover-bg-color: #E2EBFA;\n",
              "      --hover-fill-color: #174EA6;\n",
              "      --disabled-fill-color: #AAA;\n",
              "      --disabled-bg-color: #DDD;\n",
              "  }\n",
              "\n",
              "  [theme=dark] .colab-df-quickchart {\n",
              "      --bg-color: #3B4455;\n",
              "      --fill-color: #D2E3FC;\n",
              "      --hover-bg-color: #434B5C;\n",
              "      --hover-fill-color: #FFFFFF;\n",
              "      --disabled-bg-color: #3B4455;\n",
              "      --disabled-fill-color: #666;\n",
              "  }\n",
              "\n",
              "  .colab-df-quickchart {\n",
              "    background-color: var(--bg-color);\n",
              "    border: none;\n",
              "    border-radius: 50%;\n",
              "    cursor: pointer;\n",
              "    display: none;\n",
              "    fill: var(--fill-color);\n",
              "    height: 32px;\n",
              "    padding: 0;\n",
              "    width: 32px;\n",
              "  }\n",
              "\n",
              "  .colab-df-quickchart:hover {\n",
              "    background-color: var(--hover-bg-color);\n",
              "    box-shadow: 0 1px 2px rgba(60, 64, 67, 0.3), 0 1px 3px 1px rgba(60, 64, 67, 0.15);\n",
              "    fill: var(--button-hover-fill-color);\n",
              "  }\n",
              "\n",
              "  .colab-df-quickchart-complete:disabled,\n",
              "  .colab-df-quickchart-complete:disabled:hover {\n",
              "    background-color: var(--disabled-bg-color);\n",
              "    fill: var(--disabled-fill-color);\n",
              "    box-shadow: none;\n",
              "  }\n",
              "\n",
              "  .colab-df-spinner {\n",
              "    border: 2px solid var(--fill-color);\n",
              "    border-color: transparent;\n",
              "    border-bottom-color: var(--fill-color);\n",
              "    animation:\n",
              "      spin 1s steps(1) infinite;\n",
              "  }\n",
              "\n",
              "  @keyframes spin {\n",
              "    0% {\n",
              "      border-color: transparent;\n",
              "      border-bottom-color: var(--fill-color);\n",
              "      border-left-color: var(--fill-color);\n",
              "    }\n",
              "    20% {\n",
              "      border-color: transparent;\n",
              "      border-left-color: var(--fill-color);\n",
              "      border-top-color: var(--fill-color);\n",
              "    }\n",
              "    30% {\n",
              "      border-color: transparent;\n",
              "      border-left-color: var(--fill-color);\n",
              "      border-top-color: var(--fill-color);\n",
              "      border-right-color: var(--fill-color);\n",
              "    }\n",
              "    40% {\n",
              "      border-color: transparent;\n",
              "      border-right-color: var(--fill-color);\n",
              "      border-top-color: var(--fill-color);\n",
              "    }\n",
              "    60% {\n",
              "      border-color: transparent;\n",
              "      border-right-color: var(--fill-color);\n",
              "    }\n",
              "    80% {\n",
              "      border-color: transparent;\n",
              "      border-right-color: var(--fill-color);\n",
              "      border-bottom-color: var(--fill-color);\n",
              "    }\n",
              "    90% {\n",
              "      border-color: transparent;\n",
              "      border-bottom-color: var(--fill-color);\n",
              "    }\n",
              "  }\n",
              "</style>\n",
              "\n",
              "  <script>\n",
              "    async function quickchart(key) {\n",
              "      const quickchartButtonEl =\n",
              "        document.querySelector('#' + key + ' button');\n",
              "      quickchartButtonEl.disabled = true;  // To prevent multiple clicks.\n",
              "      quickchartButtonEl.classList.add('colab-df-spinner');\n",
              "      try {\n",
              "        const charts = await google.colab.kernel.invokeFunction(\n",
              "            'suggestCharts', [key], {});\n",
              "      } catch (error) {\n",
              "        console.error('Error during call to suggestCharts:', error);\n",
              "      }\n",
              "      quickchartButtonEl.classList.remove('colab-df-spinner');\n",
              "      quickchartButtonEl.classList.add('colab-df-quickchart-complete');\n",
              "    }\n",
              "    (() => {\n",
              "      let quickchartButtonEl =\n",
              "        document.querySelector('#df-e08f2bd2-95d2-47d0-8bfc-16ba39d739dd button');\n",
              "      quickchartButtonEl.style.display =\n",
              "        google.colab.kernel.accessAllowed ? 'block' : 'none';\n",
              "    })();\n",
              "  </script>\n",
              "</div>\n",
              "\n",
              "  <div id=\"id_2a547cdb-4f4e-4d18-9c80-4f5d96093fd0\">\n",
              "    <style>\n",
              "      .colab-df-generate {\n",
              "        background-color: #E8F0FE;\n",
              "        border: none;\n",
              "        border-radius: 50%;\n",
              "        cursor: pointer;\n",
              "        display: none;\n",
              "        fill: #1967D2;\n",
              "        height: 32px;\n",
              "        padding: 0 0 0 0;\n",
              "        width: 32px;\n",
              "      }\n",
              "\n",
              "      .colab-df-generate:hover {\n",
              "        background-color: #E2EBFA;\n",
              "        box-shadow: 0px 1px 2px rgba(60, 64, 67, 0.3), 0px 1px 3px 1px rgba(60, 64, 67, 0.15);\n",
              "        fill: #174EA6;\n",
              "      }\n",
              "\n",
              "      [theme=dark] .colab-df-generate {\n",
              "        background-color: #3B4455;\n",
              "        fill: #D2E3FC;\n",
              "      }\n",
              "\n",
              "      [theme=dark] .colab-df-generate:hover {\n",
              "        background-color: #434B5C;\n",
              "        box-shadow: 0px 1px 3px 1px rgba(0, 0, 0, 0.15);\n",
              "        filter: drop-shadow(0px 1px 2px rgba(0, 0, 0, 0.3));\n",
              "        fill: #FFFFFF;\n",
              "      }\n",
              "    </style>\n",
              "    <button class=\"colab-df-generate\" onclick=\"generateWithVariable('data')\"\n",
              "            title=\"Generate code using this dataframe.\"\n",
              "            style=\"display:none;\">\n",
              "\n",
              "  <svg xmlns=\"http://www.w3.org/2000/svg\" height=\"24px\"viewBox=\"0 0 24 24\"\n",
              "       width=\"24px\">\n",
              "    <path d=\"M7,19H8.4L18.45,9,17,7.55,7,17.6ZM5,21V16.75L18.45,3.32a2,2,0,0,1,2.83,0l1.4,1.43a1.91,1.91,0,0,1,.58,1.4,1.91,1.91,0,0,1-.58,1.4L9.25,21ZM18.45,9,17,7.55Zm-12,3A5.31,5.31,0,0,0,4.9,8.1,5.31,5.31,0,0,0,1,6.5,5.31,5.31,0,0,0,4.9,4.9,5.31,5.31,0,0,0,6.5,1,5.31,5.31,0,0,0,8.1,4.9,5.31,5.31,0,0,0,12,6.5,5.46,5.46,0,0,0,6.5,12Z\"/>\n",
              "  </svg>\n",
              "    </button>\n",
              "    <script>\n",
              "      (() => {\n",
              "      const buttonEl =\n",
              "        document.querySelector('#id_2a547cdb-4f4e-4d18-9c80-4f5d96093fd0 button.colab-df-generate');\n",
              "      buttonEl.style.display =\n",
              "        google.colab.kernel.accessAllowed ? 'block' : 'none';\n",
              "\n",
              "      buttonEl.onclick = () => {\n",
              "        google.colab.notebook.generateWithVariable('data');\n",
              "      }\n",
              "      })();\n",
              "    </script>\n",
              "  </div>\n",
              "\n",
              "    </div>\n",
              "  </div>\n"
            ],
            "application/vnd.google.colaboratory.intrinsic+json": {
              "type": "dataframe",
              "variable_name": "data",
              "summary": "{\n  \"name\": \"data\",\n  \"rows\": 768,\n  \"fields\": [\n    {\n      \"column\": \"Glucose\",\n      \"properties\": {\n        \"dtype\": \"number\",\n        \"std\": 31,\n        \"min\": 0,\n        \"max\": 199,\n        \"num_unique_values\": 136,\n        \"samples\": [\n          151,\n          101,\n          112\n        ],\n        \"semantic_type\": \"\",\n        \"description\": \"\"\n      }\n    },\n    {\n      \"column\": \"BloodPressure\",\n      \"properties\": {\n        \"dtype\": \"number\",\n        \"std\": 19,\n        \"min\": 0,\n        \"max\": 122,\n        \"num_unique_values\": 47,\n        \"samples\": [\n          86,\n          46,\n          85\n        ],\n        \"semantic_type\": \"\",\n        \"description\": \"\"\n      }\n    },\n    {\n      \"column\": \"SkinThickness\",\n      \"properties\": {\n        \"dtype\": \"number\",\n        \"std\": 15,\n        \"min\": 0,\n        \"max\": 99,\n        \"num_unique_values\": 51,\n        \"samples\": [\n          7,\n          12,\n          48\n        ],\n        \"semantic_type\": \"\",\n        \"description\": \"\"\n      }\n    },\n    {\n      \"column\": \"Insulin\",\n      \"properties\": {\n        \"dtype\": \"number\",\n        \"std\": 115,\n        \"min\": 0,\n        \"max\": 846,\n        \"num_unique_values\": 186,\n        \"samples\": [\n          52,\n          41,\n          183\n        ],\n        \"semantic_type\": \"\",\n        \"description\": \"\"\n      }\n    },\n    {\n      \"column\": \"BMI\",\n      \"properties\": {\n        \"dtype\": \"number\",\n        \"std\": 7.884160320375446,\n        \"min\": 0.0,\n        \"max\": 67.1,\n        \"num_unique_values\": 248,\n        \"samples\": [\n          19.9,\n          31.0,\n          38.1\n        ],\n        \"semantic_type\": \"\",\n        \"description\": \"\"\n      }\n    },\n    {\n      \"column\": \"DiabetesPedigreeFunction\",\n      \"properties\": {\n        \"dtype\": \"number\",\n        \"std\": 0.3313285950127749,\n        \"min\": 0.078,\n        \"max\": 2.42,\n        \"num_unique_values\": 517,\n        \"samples\": [\n          1.731,\n          0.426,\n          0.138\n        ],\n        \"semantic_type\": \"\",\n        \"description\": \"\"\n      }\n    },\n    {\n      \"column\": \"Age\",\n      \"properties\": {\n        \"dtype\": \"number\",\n        \"std\": 11,\n        \"min\": 21,\n        \"max\": 81,\n        \"num_unique_values\": 52,\n        \"samples\": [\n          60,\n          47,\n          72\n        ],\n        \"semantic_type\": \"\",\n        \"description\": \"\"\n      }\n    },\n    {\n      \"column\": \"Outcome\",\n      \"properties\": {\n        \"dtype\": \"number\",\n        \"std\": 0,\n        \"min\": 0,\n        \"max\": 1,\n        \"num_unique_values\": 2,\n        \"samples\": [\n          0,\n          1\n        ],\n        \"semantic_type\": \"\",\n        \"description\": \"\"\n      }\n    }\n  ]\n}"
            }
          },
          "metadata": {},
          "execution_count": 10
        }
      ],
      "source": [
        "import numpy as np\n",
        "import pandas as pd\n",
        "from sklearn.model_selection import train_test_split\n",
        "from sklearn.preprocessing import StandardScaler\n",
        "import pandas as pd\n",
        "from sklearn.pipeline import Pipeline\n",
        "from sklearn.preprocessing import StandardScaler\n",
        "from sklearn.naive_bayes import GaussianNB\n",
        "from sklearn.neighbors import KNeighborsClassifier\n",
        "from sklearn.svm import SVC\n",
        "from sklearn.neural_network import MLPClassifier\n",
        "from sklearn.model_selection import GridSearchCV\n",
        "from sklearn.metrics import classification_report\n",
        "from sklearn.metrics import classification_report, confusion_matrix\n",
        "\n",
        "# Veriyi yükleyelim\n",
        "url = \"https://raw.githubusercontent.com/jbrownlee/Datasets/master/pima-indians-diabetes.data.csv\"\n",
        "columns = ['Pregnancies', 'Glucose', 'BloodPressure', 'SkinThickness', 'Insulin', 'BMI', 'DiabetesPedigreeFunction', 'Age', 'Outcome']\n",
        "data = pd.read_csv(url, header=None, names=columns)\n",
        "\n",
        "# 'Pregnancies' değişkenini çıkaralım\n",
        "data = data.drop('Pregnancies', axis=1)\n",
        "\n",
        "# Veriyi eğitim ve test setlerine ayıraalım\n",
        "X = data.drop('Outcome', axis=1)\n",
        "y = data['Outcome']\n",
        "X_train, X_test, y_train, y_test = train_test_split(X, y, test_size=0.3, random_state=42, stratify=y)\n",
        "data\n"
      ]
    },
    {
      "cell_type": "markdown",
      "source": [
        "# 1. Naive Bayes\n"
      ],
      "metadata": {
        "id": "94RU5oVDznQ8"
      }
    },
    {
      "cell_type": "code",
      "source": [
        "from sklearn.naive_bayes import GaussianNB\n",
        "\n",
        "# Pipeline ve Grid Search\n",
        "pipe_nb = Pipeline([\n",
        "    ('scaler', StandardScaler()),\n",
        "    ('classifier', GaussianNB())\n",
        "])\n",
        "\n",
        "# Naive Bayes için hiperparametre aramaya gerek yok\n",
        "params_nb = {}\n",
        "\n",
        "grid_nb = GridSearchCV(pipe_nb, params_nb, cv=5, scoring='accuracy')\n",
        "grid_nb.fit(X_train, y_train)\n",
        "\n",
        "print(f\"Best parameters for Naive Bayes: {grid_nb.best_params_}\")\n",
        "print(f\"Best cross-validation accuracy for Naive Bayes: {grid_nb.best_score_:.4f}\")\n",
        "\n",
        "y_pred_nb = grid_nb.predict(X_test)\n",
        "print(f\"Classification report for Naive Bayes:\\n{classification_report(y_test, y_pred_nb)}\\n\")\n"
      ],
      "metadata": {
        "colab": {
          "base_uri": "https://localhost:8080/"
        },
        "outputId": "48077fe9-5027-45e4-e2cc-fac0922039bf",
        "id": "AspFYK0yzx7D"
      },
      "execution_count": 11,
      "outputs": [
        {
          "output_type": "stream",
          "name": "stdout",
          "text": [
            "Best parameters for Naive Bayes: {}\n",
            "Best cross-validation accuracy for Naive Bayes: 0.7561\n",
            "Classification report for Naive Bayes:\n",
            "              precision    recall  f1-score   support\n",
            "\n",
            "           0       0.79      0.87      0.83       150\n",
            "           1       0.70      0.57      0.63        81\n",
            "\n",
            "    accuracy                           0.76       231\n",
            "   macro avg       0.74      0.72      0.73       231\n",
            "weighted avg       0.76      0.76      0.76       231\n",
            "\n",
            "\n"
          ]
        }
      ]
    },
    {
      "cell_type": "markdown",
      "source": [
        "# Yorum;\n",
        "\n",
        "- Çapraz doğrulama doğruluğu: 0.76\n",
        "-- **Yorum** : Naive Bayes modelinin eğitim verisi üzerindeki çapraz doğrulama sırasında ortalama doğruluğudur. Yaklaşık %75.6 doğruluk elde edilmiştir.\n",
        "- Precision: 0.79\n",
        "- Recall: 0.87\n",
        "- F1-Score: 0.83\n",
        "-- **Yorum** : Negatif sınıf için modelin tahminleri oldukça başarılı. Negatif sınıfların doğru tespit edilme oranı (%87) oldukça yüksek ve genel olarak bu sınıfta iyi performans göstermektedir.\n",
        "- Precision: 0.70\n",
        "- Recall: 0.57\n",
        "- F1-Score: 0.63\n",
        "-- **Yorum** : Pozitif sınıf için modelin performansı biraz daha düşüktür. Pozitif örneklerin doğru tahmin edilme oranı (%57) nispeten daha düşük. Bu da modelin diyabetli bireyleri doğru tespit etmekte bazı zorluklar yaşadığını gösterir.\n",
        "- Accuracy (Doğruluk): 0.76, Modelin genel doğruluğu %76'dır.\n"
      ],
      "metadata": {
        "id": "D5TlvA5Sz3sl"
      }
    },
    {
      "cell_type": "code",
      "source": [
        "from sklearn.naive_bayes import GaussianNB\n",
        "from sklearn.metrics import classification_report, confusion_matrix, roc_curve, auc, roc_auc_score\n",
        "import matplotlib.pyplot as plt\n",
        "\n",
        "\n",
        "# Gaussian Naive Bayes modeli oluşturalım\n",
        "nb_model = GaussianNB()\n",
        "\n",
        "# Modeli fit edelim\n",
        "nb_model.fit(X_train, y_train)\n",
        "\n",
        "# Test verisi üzerinde tahmin yapalım\n",
        "y_pred_nb = nb_model.predict(X_test)\n",
        "nb_probs = nb_model.predict_proba(X_test)[:, 1]\n",
        "\n",
        "# Confusion Matrix\n",
        "conf_matrix_nb = confusion_matrix(y_test, y_pred_nb)\n",
        "print(\"Confusion Matrix:\")\n",
        "print(conf_matrix_nb)\n",
        "\n",
        "# Sensitivity and Specificity\n",
        "tn_nb, fp_nb, fn_nb, tp_nb = conf_matrix_nb.ravel()\n",
        "sensitivity_nb = tp_nb / (tp_nb + fn_nb)\n",
        "specificity_nb = tn_nb / (tn_nb + fp_nb)\n",
        "\n",
        "# Recall\n",
        "recall_nb = tp_nb / (tp_nb + fn_nb)\n",
        "\n",
        "print(\"\\nSensitivity:\", sensitivity_nb)\n",
        "print(\"Specificity:\", specificity_nb)\n",
        "print(\"Recall:\", recall_nb)\n",
        "\n",
        "# ROC eğrisi\n",
        "fpr_nb, tpr_nb, thresholds_nb = roc_curve(y_test, nb_probs)\n",
        "\n",
        "# AUC değerini hesaplaayalım\n",
        "auc_nb = roc_auc_score(y_test, nb_probs)\n",
        "\n",
        "# ROC eğrisini görselleştirelim\n",
        "plt.figure(figsize=(8, 6))\n",
        "plt.plot(fpr_nb, tpr_nb, label='ROC Curve (AUC = {:.2f})'.format(auc_nb))\n",
        "plt.plot([0, 1], [0, 1], linestyle='--', color='red')\n",
        "plt.xlabel('False Positive Rate')\n",
        "plt.ylabel('True Positive Rate')\n",
        "plt.title('ROC Curve - Naive Bayes')\n",
        "plt.legend()\n",
        "plt.show()\n",
        "\n",
        "print(\"AUC değeri:\", auc_nb)\n"
      ],
      "metadata": {
        "colab": {
          "base_uri": "https://localhost:8080/",
          "height": 703
        },
        "id": "uXm0Atv6z8wE",
        "outputId": "f4e96845-9fcc-4576-d79a-7b60908d4988"
      },
      "execution_count": 15,
      "outputs": [
        {
          "output_type": "stream",
          "name": "stdout",
          "text": [
            "Confusion Matrix:\n",
            "[[130  20]\n",
            " [ 35  46]]\n",
            "\n",
            "Sensitivity: 0.5679012345679012\n",
            "Specificity: 0.8666666666666667\n",
            "Recall: 0.5679012345679012\n"
          ]
        },
        {
          "output_type": "display_data",
          "data": {
            "text/plain": [
              "<Figure size 800x600 with 1 Axes>"
            ],
            "image/png": "[encoded data removed]"
          },
          "metadata": {}
        },
        {
          "output_type": "stream",
          "name": "stdout",
          "text": [
            "AUC değeri: 0.805843621399177\n"
          ]
        }
      ]
    },
    {
      "cell_type": "markdown",
      "source": [
        "## Yorum;\n",
        "\n",
        "- Confusion Matrix: Burada, 130 gerçek negatif ve 46 gerçek pozitif olduğunu görebiliriz. Ancak, 20 yanlış pozitif ve 35 yanlış negatif var. Yanlış pozitifler, normal olarak sınıflandırılan ancak aslında hastalığı olan vakaları temsil ederken, yanlış negatifler, aslında hastalığı olan ancak normal olarak sınıflandırılan vakaları temsil eder. Bu durumda, modelin daha fazla yanlış negatif yapması, duyarlılık (sensitivity) değerinin yüksek olmasına neden olur.\n",
        "\n",
        "- Sensitivity (Hassasiyet): Yüksek bir sensitivity değeri, modelin hastalığı doğru bir şekilde teşhis etme yeteneğinin daha iyi olduğunu gösterir. Burada sensitivity değeri 0.57 olarak verilmiştir, yani modelin hastalığı tespit etme yeteneği makul derecede iyidir.\n",
        "\n",
        "- Specificity (Özgüllük): Yüksek bir specificity değeri, modelin sağlıklı bireyleri doğru bir şekilde belirleme yeteneğinin daha iyi olduğunu gösterir. Burada specificity değeri 0.87 olarak verilmiştir, bu da modelin sağlıklı bireyleri doğru bir şekilde belirleme yeteneğinin iyi olduğunu gösterir.\n",
        "\n",
        "- Recall (Gerçekleşme Oranı): Bu, sensitivity ile aynı şeyi ifade eder. Modelin gerçek pozitiflerin ne kadarını doğru bir şekilde tespit ettiğini gösterir. Burada recall değeri de 0.57 olarak verilmiştir.\n",
        "\n",
        "- AUC (Alan Altındaki Eğri): Burada AUC değeri 0.81 olarak verilmiştir, bu da modelin oldukça iyi bir performans sergilediğini gösterir."
      ],
      "metadata": {
        "id": "ggDwfnJD0Fgq"
      }
    },
    {
      "cell_type": "markdown",
      "source": [
        "# 2. K-Nearest Neighbors (KNN) - K En Yakın Komşuluk"
      ],
      "metadata": {
        "id": "gKDusqvBRLSo"
      }
    },
    {
      "cell_type": "code",
      "source": [
        "from sklearn.neighbors import KNeighborsClassifier\n",
        "\n",
        "# Pipeline ve Grid Search\n",
        "pipe = Pipeline([\n",
        "    ('scaler', StandardScaler()),\n",
        "    ('classifier', KNeighborsClassifier())\n",
        "])\n",
        "\n",
        "params = {\n",
        "    'classifier__n_neighbors': [3, 5, 7, 9]\n",
        "}\n",
        "\n",
        "grid = GridSearchCV(pipe, params, cv=5, scoring='accuracy')\n",
        "grid.fit(X_train, y_train)\n",
        "\n",
        "print(f\"Best parameters for KNN: {grid.best_params_}\")\n",
        "print(f\"Best cross-validation accuracy for KNN: {grid.best_score_:.4f}\")\n",
        "\n",
        "y_pred_knn = grid.predict(X_test)\n",
        "print(f\"Classification report for KNN:\\n{classification_report(y_test, y_pred_knn)}\\n\")\n"
      ],
      "metadata": {
        "colab": {
          "base_uri": "https://localhost:8080/"
        },
        "id": "NJ_Pc_PxRH16",
        "outputId": "0dccf3ad-60e2-4b03-b8fd-caaf31f2e5ab"
      },
      "execution_count": 26,
      "outputs": [
        {
          "output_type": "stream",
          "name": "stdout",
          "text": [
            "Best parameters for KNN: {'classifier__n_neighbors': 9}\n",
            "Best cross-validation accuracy for KNN: 0.7412\n",
            "Classification report for KNN:\n",
            "              precision    recall  f1-score   support\n",
            "\n",
            "           0       0.76      0.88      0.81       150\n",
            "           1       0.68      0.48      0.57        81\n",
            "\n",
            "    accuracy                           0.74       231\n",
            "   macro avg       0.72      0.68      0.69       231\n",
            "weighted avg       0.73      0.74      0.73       231\n",
            "\n",
            "\n"
          ]
        }
      ]
    },
    {
      "cell_type": "markdown",
      "source": [
        "## Yorum;\n",
        "- En iyi parametre 9 çıktısı en iyi performansı elde etmek için 9 komşu kullanılması gerektiğini göstermektedir.\n",
        "- En iyi çapraz doğrulama doğruluğu: 0.7412, yaklaşık %74.1 doğruluk elde edilmiştir.\n",
        "- Precision: 0.76\n",
        "- Recall: 0.88\n",
        "- F1-Score: 0.81\n",
        "-- **Yorum** : Sınıf 0 için modelin tahminleri oldukça başarılı. Negatif sınıfların doğru tespit edilme oranı (%88) yüksek. F1-score'un 1'e yakın olması, modelin negatif sınıfları oldukça iyi bir şekilde tahmin ettiğini gösterir.\n",
        "- Precision: 0.68\n",
        "- Recall: 0.48\n",
        "\n",
        "\n",
        "- F1-Score: 0.81\n",
        "-- ** Yorum** :Bu değer, negatif sınıf için modelin hem doğruluğunun (Precision) hem de duyarlılığının (Recall) oldukça yüksek olduğunu gösterir. F1-score'un 1'e yakın olması, modelin negatif sınıfları oldukça iyi bir şekilde tahmin ettiğini gösterir.\n",
        "\n",
        "- F1-Score: 0.57\n",
        "-- ** Yorum** : Sınıf 1 için modelin performansı daha düşük. Pozitif örneklerin doğru tahmin edilme oranı (%48) nispeten daha düşük. Bu da modelin diyabetli bireyleri doğru tespit etmede zorlandığını gösterir.\n",
        "\n",
        "- Accuracy (Doğruluk): 0.74 Modelin genel doğruluğu %74'tür."
      ],
      "metadata": {
        "id": "VoLokmiLRqVY"
      }
    },
    {
      "cell_type": "code",
      "source": [
        "import matplotlib.pyplot as plt\n",
        "from sklearn.metrics import roc_curve, roc_auc_score, confusion_matrix\n",
        "\n",
        "# KNN modelini tanımlayalım\n",
        "knn = KNeighborsClassifier()\n",
        "\n",
        "# Modelin hiperparametrelerini tanımlayalım\n",
        "param_grid = {'n_neighbors': [3, 5, 7]}\n",
        "\n",
        "# GridSearchCV kullanarak en iyi hiperparametreleri bulalım\n",
        "grid = GridSearchCV(knn, param_grid, cv=5)\n",
        "\n",
        "# Modeli eğitim verilerine uyarlayalım\n",
        "grid.fit(X_train, y_train)\n",
        "\n",
        "# Modelin tahminlerini yapalım\n",
        "y_pred_knn = grid.predict(X_test)\n",
        "\n",
        "# ROC Eğrisi ve AUC hesaplayalım\n",
        "knn_probs = grid.predict_proba(X_test)[:, 1]\n",
        "fpr_knn, tpr_knn, thresholds_knn = roc_curve(y_test, knn_probs)\n",
        "auc_knn = roc_auc_score(y_test, knn_probs)\n",
        "\n",
        "# ROC Eğrisini görselleştirelim\n",
        "import matplotlib.pyplot as plt\n",
        "plt.figure(figsize=(8, 6))\n",
        "plt.plot(fpr_knn, tpr_knn, label='ROC Curve (AUC = {:.2f})'.format(auc_knn))\n",
        "plt.plot([0, 1], [0, 1], linestyle='--', color='red')\n",
        "plt.xlabel('False Positive Rate')\n",
        "plt.ylabel('True Positive Rate')\n",
        "plt.title('ROC Curve for KNN')\n",
        "plt.legend()\n",
        "plt.show()\n",
        "\n",
        "# Karışıklık Matrisi\n",
        "conf_matrix_knn = confusion_matrix(y_test, y_pred)\n",
        "print(\"Confusion Matrix:\")\n",
        "print(conf_matrix_knn)\n",
        "\n",
        "# Hassasiyet, Özgüllük, Geri Çağırma ve F1-Skor\n",
        "tn_knn, fp_knn, fn_knn, tp_knn = conf_matrix_knn.ravel()\n",
        "sensitivity_knn = tp_knn / (tp_knn + fn_knn)\n",
        "specificity_knn = tn_knn / (tn_knn + fp_knn)\n",
        "recall_knn = tp_knn / (tp_knn + fn_knn)\n",
        "precision_knn = tp_knn / (tp_knn + fp_knn)\n",
        "\n",
        "print(\"\\nSensitivity:\", sensitivity_knn)\n",
        "print(\"Specificity:\", specificity_knn)\n",
        "print(\"Recall:\", recall_knn)\n",
        "print(\"AUC Score:\", auc_knn)\n"
      ],
      "metadata": {
        "colab": {
          "base_uri": "https://localhost:8080/",
          "height": 720
        },
        "id": "0XVDhJcaijdA",
        "outputId": "b5a10fc8-8644-421b-c9d9-fc21370407f9"
      },
      "execution_count": 27,
      "outputs": [
        {
          "output_type": "display_data",
          "data": {
            "text/plain": [
              "<Figure size 800x600 with 1 Axes>"
            ],
            "image/png": "[encoded data removed]"
          },
          "metadata": {}
        },
        {
          "output_type": "stream",
          "name": "stdout",
          "text": [
            "Confusion Matrix:\n",
            "[[135  15]\n",
            " [ 41  40]]\n",
            "\n",
            "Sensitivity: 0.49382716049382713\n",
            "Specificity: 0.9\n",
            "Recall: 0.49382716049382713\n",
            "Precision: 0.7272727272727273\n",
            "AUC Score: 0.7550617283950617\n"
          ]
        }
      ]
    },
    {
      "cell_type": "markdown",
      "source": [
        "## Yorum;\n",
        "\n",
        "- Confuison Matrix: Burada, 135 gerçek negatif ve 40 gerçek pozitif olduğunu görebiliriz. Ancak, 15 yanlış pozitif ve 41 yanlış negatif var. Yanlış pozitifler, normal olarak sınıflandırılan ancak aslında hastalığı olan vakaları temsil ederken, yanlış negatifler, aslında hastalığı olan ancak normal olarak sınıflandırılan vakaları temsil eder. Bu durumda, modelimizin daha fazla yanlış negatif yapması, duyarlılık (sensitivity) değerinin düşük olmasına neden olur.\n",
        "\n",
        "- Sensitivity (Hassasiyet): Yüksek bir sensitivity değeri, modelin hastalığı doğru bir şekilde teşhis etme yeteneğinin daha iyi olduğunu gösterir. Ancak, burada sensitivity değeri 0.49 olarak verilmiştir, yani modelin hastalığı tespit etme yeteneği çok iyi diyemeyiz.\n",
        "\n",
        "- Specificity (Özgüllük): Yüksek bir specificity değeri, modelin sağlıklı bireyleri doğru bir şekilde belirleme yeteneğinin daha iyi olduğunu gösterir. Burada specificity değeri 0.9 olarak verilmiştir, bu da modelin sağlıklı bireyleri doğru bir şekilde belirleme yeteneğinin çok iyi olduğunu gösterir.\n",
        "\n",
        "- Recall (Gerçekleşme Oranı): Bu, sensitivity ile aynı şeyi ifade eder. Modelin gerçek pozitiflerin ne kadarını doğru bir şekilde tespit ettiğini gösterir. Burada recall değeri de 0.49 olarak verilmiştir.\n",
        "\n",
        "- AUC (Alan Altındaki Eğri): ROC eğrisinin altındaki alanı ifade eder. Bu, modelin sınıflandırma performansını ölçer. Burada AUC değeri 0.75 olarak verilmiştir, bu da modelin oldukça iyi bir performans sergilediğini gösterir.\n"
      ],
      "metadata": {
        "id": "YfPaMKZCi0Rn"
      }
    },
    {
      "cell_type": "markdown",
      "source": [
        "## 3.  Support Vector Machine (SVM) - Destek Vektör Makineleri"
      ],
      "metadata": {
        "id": "GFt8H5TdSptB"
      }
    },
    {
      "cell_type": "code",
      "source": [
        "from sklearn.svm import SVC\n",
        "\n",
        "# Pipeline ve Grid Search\n",
        "pipe = Pipeline([\n",
        "    ('scaler', StandardScaler()),\n",
        "    ('classifier', SVC())\n",
        "])\n",
        "\n",
        "params = {\n",
        "    'classifier__C': [0.1, 1, 10, 100],\n",
        "    'classifier__gamma': [0.001, 0.01, 0.1, 1]\n",
        "}\n",
        "\n",
        "grid = GridSearchCV(pipe, params, cv=5, scoring='accuracy')\n",
        "grid.fit(X_train, y_train)\n",
        "\n",
        "print(f\"Best parameters for SVM: {grid.best_params_}\")\n",
        "print(f\"Best cross-validation accuracy for SVM: {grid.best_score_:.4f}\")\n",
        "\n",
        "y_pred_svm = grid.predict(X_test)\n",
        "print(f\"Classification report for SVM:\\n{classification_report(y_test, y_pred_svm)}\\n\")\n"
      ],
      "metadata": {
        "colab": {
          "base_uri": "https://localhost:8080/"
        },
        "id": "vEFdSUxDSu6a",
        "outputId": "f6a77c70-3899-4dbd-bcc2-17f877778f3f"
      },
      "execution_count": 39,
      "outputs": [
        {
          "output_type": "stream",
          "name": "stdout",
          "text": [
            "Best parameters for SVM: {'classifier__C': 100, 'classifier__gamma': 0.001}\n",
            "Best cross-validation accuracy for SVM: 0.7728\n",
            "Classification report for SVM:\n",
            "              precision    recall  f1-score   support\n",
            "\n",
            "           0       0.77      0.90      0.83       150\n",
            "           1       0.73      0.49      0.59        81\n",
            "\n",
            "    accuracy                           0.76       231\n",
            "   macro avg       0.75      0.70      0.71       231\n",
            "weighted avg       0.75      0.76      0.74       231\n",
            "\n",
            "\n"
          ]
        }
      ]
    },
    {
      "cell_type": "markdown",
      "source": [
        "# Yorum;\n",
        "\n",
        "- En iyi parametreler: {'classifier__C': 100, 'classifier__gamma': 0.001}\n",
        "-- **Yorum** : C parametresi 100 olarak seçilmiş, bu da düzenlemenin (regularization) oldukça düşük olduğunu ve modelin hataları minimize etmeye odaklandığını gösterir. gamma parametresi 0.001 olarak seçilmiş, bu da daha geniş bir alana yayılan karar sınırları oluşturur ve modelin daha düzgün bir genelleme yapmasını sağlar.\n",
        "\n",
        "- En iyi çapraz doğrulama doğruluğu: 0.7728\n",
        "-- **Yorum** : Modelin eğitim verisi üzerinde çapraz doğrulama sırasında elde ettiği ortalama doğruluk değeridir. Yaklaşık %77.3 doğruluk elde edilmiştir.\n",
        "- Precision: 0.77\n",
        "- Recall: 0.90\n",
        "- F1-Score: 0.83\n",
        "-- **Yorum** : Sınıf 0 için modelin tahminleri oldukça başarılı. Negatif sınıfların doğru tespit edilme oranı (%90) oldukça yüksek, ve genel olarak bu sınıfta iyi performans göstermektedir.\n",
        "- Precision: 0.73\n",
        "- Recall: 0.49\n",
        "- F1-Score: 0.59\n",
        "-- **Yorum** : Sınıf 1 için modelin performansı daha düşük. Pozitif örneklerin doğru tahmin edilme oranı (%49) nispeten daha düşük. Bu da modelin diyabetli bireyleri doğru tespit etmede zorlandığını gösterir.\n",
        "\n",
        "- Accuracy (Doğruluk): 0.76, Modelin genel doğruluğu %76'dır."
      ],
      "metadata": {
        "id": "Kaax3C2NTJrj"
      }
    },
    {
      "cell_type": "code",
      "source": [
        "from sklearn.svm import SVC\n",
        "\n",
        "# SVM modeli oluşturalım\n",
        "svm_model = SVC(probability=True)\n",
        "# Veriyi modele uyduralım\n",
        "svm_model.fit(X_train, y_train)\n",
        "\n",
        "# Test verisi üzerinde tahmin yapalım\n",
        "y_pred_svm = svm_model.predict(X_test)\n",
        "svm_probs = svm_model.predict_proba(X_test)[:, 1]\n",
        "\n",
        "# Confusion Matrix\n",
        "conf_matrix_svm = confusion_matrix(y_test, y_pred_svm)\n",
        "print(\"Confusion Matrix:\")\n",
        "print(conf_matrix_svm)\n",
        "\n",
        "# Sensitivity and Specificity\n",
        "tn_svm, fp_svm, fn_svm, tp_svm = conf_matrix_svm.ravel()\n",
        "sensitivity_svm = tp_svm / (tp_svm + fn_svm)\n",
        "specificity_svm = tn_svm / (tn_svm + fp_svm)\n",
        "\n",
        "# Recall\n",
        "recall_svm = tp_svm / (tp_svm + fn_svm)\n",
        "\n",
        "print(\"\\nSensitivity:\", sensitivity_svm)\n",
        "print(\"Specificity:\", specificity_svm)\n",
        "print(\"Recall:\", recall_svm)\n",
        "\n",
        "# ROC eğrisini oluşturalım\n",
        "fpr_svm, tpr_svm, thresholds_svm = roc_curve(y_test, svm_probs)\n",
        "\n",
        "# AUC değerini hesaplayalım\n",
        "auc_svm = roc_auc_score(y_test, svm_probs)\n",
        "\n",
        "# ROC eğrisini görselleştirelim\n",
        "plt.figure(figsize=(8, 6))\n",
        "plt.plot(fpr_svm, tpr_svm, label='ROC Curve (AUC = {:.2f})'.format(auc_svm))\n",
        "plt.plot([0, 1], [0, 1], linestyle='--', color='red')\n",
        "plt.xlabel('False Positive Rate')\n",
        "plt.ylabel('True Positive Rate')\n",
        "plt.title('ROC Curve - SVM')\n",
        "plt.legend()\n",
        "plt.show()\n",
        "\n",
        "print(\"AUC değeri:\", auc_svm)\n"
      ],
      "metadata": {
        "colab": {
          "base_uri": "https://localhost:8080/",
          "height": 703
        },
        "id": "i0JJzdlZhXjX",
        "outputId": "c5193613-e850-409a-c2da-c251bd8c7eab"
      },
      "execution_count": 40,
      "outputs": [
        {
          "output_type": "stream",
          "name": "stdout",
          "text": [
            "Confusion Matrix:\n",
            "[[136  14]\n",
            " [ 45  36]]\n",
            "\n",
            "Sensitivity: 0.4444444444444444\n",
            "Specificity: 0.9066666666666666\n",
            "Recall: 0.4444444444444444\n"
          ]
        },
        {
          "output_type": "display_data",
          "data": {
            "text/plain": [
              "<Figure size 800x600 with 1 Axes>"
            ],
            "image/png": "[encoded data removed]"
          },
          "metadata": {}
        },
        {
          "output_type": "stream",
          "name": "stdout",
          "text": [
            "AUC değeri: 0.8218106995884773\n"
          ]
        }
      ]
    },
    {
      "cell_type": "markdown",
      "source": [
        "## Yorum;\n",
        "- Confusion Matrix:  136 gerçek negatif ve 36 gerçek pozitif olduğunu görebiliriz. Ancak, 14 yanlış pozitif ve 45 yanlış negatif var. Yanlış pozitifler, normal olarak sınıflandırılan ancak aslında hastalığı olan vakaları temsil ederken, yanlış negatifler, aslında hastalığı olan ancak normal olarak sınıflandırılan vakaları temsil eder. Bu durumda, modelimizin daha fazla yanlış\n",
        "negatif yapması, duyarlılık (sensitivity) değerinin düşük olmasına neden olur.\n",
        "\n",
        "- Sensitivity (Hassasiyet): Yüksek bir sensitivity değeri, modelin hastalığı doğru bir şekilde teşhis etme yeteneğinin daha iyi olduğunu gösterir. Ancak, burada sensitivity değeri 0.44 olarak verilmiştir, yani modelin hastalığı tespit etme yeteneği düşüktür.\n",
        "\n",
        "- Specificity (Özgüllük): Yüksek bir specificity değeri, modelin sağlıklı bireyleri doğru bir şekilde belirleme yeteneğinin daha iyi olduğunu gösterir. Burada specificity değeri 0.91 olarak verilmiştir, bu da modelin sağlıklı bireyleri doğru bir şekilde belirleme yeteneğinin iyi olduğunu gösterir.\n",
        "\n",
        "- Recall (Gerçekleşme Oranı): Bu, sensitivity ile aynı şeyi ifade eder. Modelin gerçek pozitiflerin ne kadarını doğru bir şekilde tespit ettiğini gösterir. Burada recall değeri de 0.44 olarak verilmiştir.\n",
        "\n",
        "- AUC (Alan Altındaki Eğri): Burada AUC değeri 0.82 olarak verilmiştir, bu da modelin oldukça iyi bir performans sergilediğini gösterir.\n",
        "\n"
      ],
      "metadata": {
        "id": "6SNygJdumqYb"
      }
    },
    {
      "cell_type": "markdown",
      "source": [
        "## Multi-Layer Perceptron (MLP) - Çok Katmanlı Algılayıcı"
      ],
      "metadata": {
        "id": "doCCNh_HV1zi"
      }
    },
    {
      "cell_type": "code",
      "source": [
        "from sklearn.neural_network import MLPClassifier\n",
        "\n",
        "# Pipeline ve Grid Search\n",
        "pipe_mlp = Pipeline([\n",
        "    ('scaler', StandardScaler()),\n",
        "    ('classifier', MLPClassifier(max_iter=500))\n",
        "])\n",
        "\n",
        "params_mlp = {\n",
        "    'classifier__hidden_layer_sizes': [(50,), (100,)],\n",
        "    'classifier__activation': ['relu'],\n",
        "    'classifier__solver': ['adam'],\n",
        "    'classifier__alpha': [0.0001],\n",
        "    'classifier__learning_rate': ['constant'],\n",
        "}\n",
        "\n",
        "grid_mlp = GridSearchCV(pipe_mlp, params_mlp, cv=3, scoring='accuracy')\n",
        "grid_mlp.fit(X_train, y_train)\n",
        "\n",
        "print(f\"Best parameters for MLP: {grid_mlp.best_params_}\")\n",
        "print(f\"Best cross-validation accuracy for MLP: {grid_mlp.best_score_:.4f}\")\n",
        "\n",
        "y_pred_mlp = grid_mlp.predict(X_test)\n",
        "print(f\"Classification report for MLP:\\n{classification_report(y_test, y_pred_mlp)}\\n\")\n"
      ],
      "metadata": {
        "colab": {
          "base_uri": "https://localhost:8080/"
        },
        "id": "J2ZHkuaNZ16_",
        "outputId": "ef270b4f-7b1a-4713-84cc-8521e8e7d7c0"
      },
      "execution_count": 22,
      "outputs": [
        {
          "output_type": "stream",
          "name": "stderr",
          "text": [
            "/usr/local/lib/python3.10/dist-packages/sklearn/neural_network/_multilayer_perceptron.py:686: ConvergenceWarning: Stochastic Optimizer: Maximum iterations (500) reached and the optimization hasn't converged yet.\n",
            "  warnings.warn(\n",
            "/usr/local/lib/python3.10/dist-packages/sklearn/neural_network/_multilayer_perceptron.py:686: ConvergenceWarning: Stochastic Optimizer: Maximum iterations (500) reached and the optimization hasn't converged yet.\n",
            "  warnings.warn(\n",
            "/usr/local/lib/python3.10/dist-packages/sklearn/neural_network/_multilayer_perceptron.py:686: ConvergenceWarning: Stochastic Optimizer: Maximum iterations (500) reached and the optimization hasn't converged yet.\n",
            "  warnings.warn(\n",
            "/usr/local/lib/python3.10/dist-packages/sklearn/neural_network/_multilayer_perceptron.py:686: ConvergenceWarning: Stochastic Optimizer: Maximum iterations (500) reached and the optimization hasn't converged yet.\n",
            "  warnings.warn(\n",
            "/usr/local/lib/python3.10/dist-packages/sklearn/neural_network/_multilayer_perceptron.py:686: ConvergenceWarning: Stochastic Optimizer: Maximum iterations (500) reached and the optimization hasn't converged yet.\n",
            "  warnings.warn(\n",
            "/usr/local/lib/python3.10/dist-packages/sklearn/neural_network/_multilayer_perceptron.py:686: ConvergenceWarning: Stochastic Optimizer: Maximum iterations (500) reached and the optimization hasn't converged yet.\n",
            "  warnings.warn(\n"
          ]
        },
        {
          "output_type": "stream",
          "name": "stdout",
          "text": [
            "Best parameters for MLP: {'classifier__activation': 'relu', 'classifier__alpha': 0.0001, 'classifier__hidden_layer_sizes': (50,), 'classifier__learning_rate': 'constant', 'classifier__solver': 'adam'}\n",
            "Best cross-validation accuracy for MLP: 0.7598\n",
            "Classification report for MLP:\n",
            "              precision    recall  f1-score   support\n",
            "\n",
            "           0       0.78      0.86      0.82       150\n",
            "           1       0.68      0.54      0.60        81\n",
            "\n",
            "    accuracy                           0.75       231\n",
            "   macro avg       0.73      0.70      0.71       231\n",
            "weighted avg       0.74      0.75      0.74       231\n",
            "\n",
            "\n"
          ]
        },
        {
          "output_type": "stream",
          "name": "stderr",
          "text": [
            "/usr/local/lib/python3.10/dist-packages/sklearn/neural_network/_multilayer_perceptron.py:686: ConvergenceWarning: Stochastic Optimizer: Maximum iterations (500) reached and the optimization hasn't converged yet.\n",
            "  warnings.warn(\n"
          ]
        }
      ]
    },
    {
      "cell_type": "markdown",
      "source": [
        "# Yorum;\n",
        "\n",
        "- En iyi hiperparametre\n",
        "-- Aktivasyon fonksiyonu: ReLU ('classifier__activation': 'relu')\n",
        "-- Alfa: 0.0001 ('classifier__alpha': 0.0001')\n",
        "\n",
        "- En iyi çapraz doğrulama doğruluğu: Yaklaşık %76\n",
        "-- **Yorum** : Modelin eğitim verisi üzerinde çapraz doğrulama sırasında elde ettiği ortalama doğruluğu %7'dır\n",
        "\n",
        "- Precision: 0.78\n",
        "- Recall: 0.86\n",
        "- F1-Score: 0.82\n",
        "-- **Yorum** : Negatif sınıf için modelin tahminleri oldukça başarılı. Negatif sınıfların doğru tespit edilme oranı (%86) oldukça yüksek ve genel olarak bu sınıfta iyi performans göstermektedir.\n",
        "\n",
        "- Precision: 0.68\n",
        "- Recall: 0.54\n",
        "- F1-Score: 0.60\n",
        "-- **Yorum** : Pozitif sınıf için modelin performansı biraz daha düşüktür. Pozitif örneklerin doğru tahmin edilme oranı (%54) nispeten daha düşük. Bu da modelin diyabetli bireyleri doğru tespit etmekte bazı zorluklar yaşadığını gösterir.\n",
        "\n",
        "- Accuracy (Doğruluk): 0.75, Modelin genel doğruluğu %75'tir."
      ],
      "metadata": {
        "id": "nBIZGnX8aap9"
      }
    },
    {
      "cell_type": "code",
      "source": [
        "from sklearn.neural_network import MLPClassifier\n",
        "\n",
        "# MLPClassifier modeli oluşturalım\n",
        "mlp_model = MLPClassifier(max_iter=1000)\n",
        "\n",
        "# Veriyi modele uyduralım\n",
        "mlp_model.fit(X_train, y_train)\n",
        "\n",
        "# Test verisi üzerinde tahmin yapalım\n",
        "y_pred_mlp = mlp_model.predict(X_test)\n",
        "mlp_probs = mlp_model.predict_proba(X_test)[:, 1]\n",
        "\n",
        "# Confusion Matrix\n",
        "conf_matrix_mlp = confusion_matrix(y_test, y_pred_mlp)\n",
        "print(\"Confusion Matrix:\")\n",
        "print(conf_matrix_mlp)\n",
        "\n",
        "# Sensitivity and Specificity\n",
        "tn_mlp, fp_mlp, fn_mlp, tp_mlp = conf_matrix_mlp.ravel()\n",
        "sensitivity_mlp = tp_mlp / (tp_mlp + fn_mlp)\n",
        "specificity_mlp = tn_mlp / (tn_mlp + fp_mlp)\n",
        "\n",
        "# Recall\n",
        "recall_mlp = tp_mlp / (tp_mlp + fn_mlp)\n",
        "\n",
        "print(\"\\nSensitivity:\", sensitivity_mlp)\n",
        "print(\"Specificity:\", specificity_mlp)\n",
        "print(\"Recall:\", recall_mlp)\n",
        "\n",
        "# ROC eğrisini oluşturalım\n",
        "fpr_mlp, tpr_mlp, thresholds_mlp = roc_curve(y_test, mlp_probs)\n",
        "\n",
        "# AUC değerini hesaplayalım\n",
        "auc_mlp = roc_auc_score(y_test, mlp_probs)\n",
        "\n",
        "# ROC eğrisini görselleştirelim\n",
        "plt.figure(figsize=(8, 6))\n",
        "plt.plot(fpr_mlp, tpr_mlp, label='ROC Curve (AUC = {:.2f})'.format(auc_mlp))\n",
        "plt.plot([0, 1], [0, 1], linestyle='--', color='red')\n",
        "plt.xlabel('False Positive Rate')\n",
        "plt.ylabel('True Positive Rate')\n",
        "plt.title('ROC Curve - MLP')\n",
        "plt.legend()\n",
        "plt.show()\n",
        "\n",
        "print(\"AUC değeri:\", auc_mlp)\n"
      ],
      "metadata": {
        "colab": {
          "base_uri": "https://localhost:8080/",
          "height": 703
        },
        "id": "MMi5OkLVnz1a",
        "outputId": "40bdf827-1439-408e-fa79-0af3f8b3898f"
      },
      "execution_count": 23,
      "outputs": [
        {
          "output_type": "stream",
          "name": "stdout",
          "text": [
            "Confusion Matrix:\n",
            "[[121  29]\n",
            " [ 46  35]]\n",
            "\n",
            "Sensitivity: 0.43209876543209874\n",
            "Specificity: 0.8066666666666666\n",
            "Recall: 0.43209876543209874\n"
          ]
        },
        {
          "output_type": "display_data",
          "data": {
            "text/plain": [
              "<Figure size 800x600 with 1 Axes>"
            ],
            "image/png": "[encoded data removed]"
          },
          "metadata": {}
        },
        {
          "output_type": "stream",
          "name": "stdout",
          "text": [
            "AUC değeri: 0.7302057613168724\n"
          ]
        }
      ]
    },
    {
      "cell_type": "markdown",
      "source": [
        "## Yorum;\n",
        "\n",
        "- Confusion Matrix: Burada, 121 gerçek negatif ve 35 gerçek pozitif olduğunu görebiliriz. Ancak, 29 yanlış pozitif ve 46 yanlış negatif var. Yanlış pozitifler, normal olarak sınıflandırılan ancak aslında hastalığı olan vakaları temsil ederken, yanlış negatifler, aslında hastalığı olan ancak normal olarak sınıflandırılan vakaları temsil eder. Bu durumda, modelin daha fazla yanlış negatif yapması, duyarlılık (sensitivity) değerinin yüksek olmasına neden olur.\n",
        "\n",
        "- Sensitivity (Hassasiyet):  Yüksek bir sensitivity değeri, modelin hastalığı doğru bir şekilde teşhis etme yeteneğinin daha iyi olduğunu gösterir. Burada sensitivity değeri 0.43 olarak verilmiştir, yani modelin hastalığı tespit etme yeteneği düşüktür.\n",
        "\n",
        "Specificity (Özgüllük): Yüksek bir specificity değeri, modelin sağlıklı bireyleri doğru bir şekilde belirleme yeteneğinin daha iyi olduğunu gösterir. Burada specificity değeri 0.80 olarak verilmiştir, bu da modelin sağlıklı bireyleri doğru bir şekilde belirleme yeteneğinin orta derecede iyi olduğunu gösterir.\n",
        "\n",
        "Recall (Gerçekleşme Oranı): Bu, sensitivity ile aynı şeyi ifade eder. Modelin gerçek pozitiflerin ne kadarını doğru bir şekilde tespit ettiğini gösterir. Burada recall değeri de 0.43 olarak verilmiştir.\n",
        "\n",
        "AUC (Alan Altındaki Eğri): Burada AUC değeri 0.73 olarak verilmiştir, bu da modelin iyi bir performans sergilediğini ancak daha iyileştirilebileceğini gösterir."
      ],
      "metadata": {
        "id": "a0xT7qWAoA8C"
      }
    },
    {
      "cell_type": "markdown",
      "source": [
        "# Ortalama Karesel Hata"
      ],
      "metadata": {
        "id": "CiDJppu-0Vfr"
      }
    },
    {
      "cell_type": "code",
      "source": [
        "from sklearn.metrics import mean_squared_error\n",
        "\n",
        "# Naive Bayes\n",
        "mse_nb = mean_squared_error(y_test, y_pred_nb)\n",
        "print(\"MSE for Naive Bayes:\", mse_nb)\n",
        "\n",
        "# KNN\n",
        "mse_knn = mean_squared_error(y_test, y_pred_knn)\n",
        "print(\"MSE for best KNN model:\", mse_knn)\n",
        "\n",
        "# MLP\n",
        "mse_mlp = mean_squared_error(y_test, y_pred_mlp)\n",
        "print(\"MSE for MLP:\", mse_mlp)\n",
        "\n",
        "# SVM\n",
        "mse_svm = mean_squared_error(y_test, y_pred_svm)\n",
        "print(\"MSE for SVM:\", mse_svm)\n"
      ],
      "metadata": {
        "colab": {
          "base_uri": "https://localhost:8080/"
        },
        "id": "fbHG-Wc00UoU",
        "outputId": "aca9f21f-0b1f-45e7-d39b-3d80b9fe609c"
      },
      "execution_count": 34,
      "outputs": [
        {
          "output_type": "stream",
          "name": "stdout",
          "text": [
            "MSE for Naive Bayes: 0.23809523809523808\n",
            "MSE for best KNN model: 0.24675324675324675\n",
            "MSE for MLP: 0.3246753246753247\n",
            "MSE for SVM: 0.2554112554112554\n"
          ]
        }
      ]
    },
    {
      "cell_type": "markdown",
      "source": [
        "## Yorum;\n",
        "- Bu ortalama karesel hata (Mean Squared Error - MSE) değeri, test veri setindeki modelin tahminlerinin gerçek değerlerden ne kadar uzak olduğunu ölçer. MSE, her tahminin gerçek değerinden ne kadar uzak olduğunu ölçer ve bu farkların karesinin ortalamasını alır. Daha düşük bir MSE değeri, modelin daha iyi performans gösterdiğini gösterir, çünkü bu, modelin tahminlerinin gerçek değerlere daha yakın olduğu anlamına gelir.\n",
        "\n",
        "## Naive Bayes Yorum;\n",
        "- 0.23809523809523808 olarak verilen MSE değeri oldukça düşüktür, bu da modelin test veri setinde oldukça iyi performans gösterdiğini gösterir.\n",
        "\n",
        "## KNN Yorum;\n",
        "- 0.24675324675324675 olarak verilen MSE değeri oldukça düşüktür, bu da modelin test veri setinde oldukça iyi performans gösterdiğini gösterir.\n",
        "\n",
        "# MLP Yorum;\n",
        "- 0.3246753246753247 olarak verilen MSE değeri oldukça düşüktür, bu da modelin test veri setinde oldukça iyi performans gösterdiğini gösterir.Ancak diğer modellere göre daha yüksek bir değerdir.\n",
        "\n",
        "## SVM Yorum;\n",
        "- 0.2554112554112554 olarak verilen MSE değeri oldukça düşüktür, bu da modelin test veri setinde oldukça iyi performans gösterdiğini gösterir.\n",
        "\n",
        "-- En iyi değer Naive Bayes algoritması için bulunmuştur. Modelin tahminleri gerçek değerlere daha yakındır."
      ],
      "metadata": {
        "id": "Q4WjH1KK1bLL"
      }
    },
    {
      "cell_type": "markdown",
      "source": [
        "# Tüm Metrikler Değerlendirme\n"
      ],
      "metadata": {
        "id": "rMv1jbvNRQuU"
      }
    },
    {
      "cell_type": "code",
      "source": [
        "## Naive Bayes\n",
        "\n",
        "y_pred_nb = grid_nb.predict(X_test)\n",
        "print(f\"Classification report for Naive Bayes:\\n{classification_report(y_test, y_pred_nb)}\\n\")\n",
        "\n",
        "print(\"\\nSensitivity:\", sensitivity_nb)\n",
        "print(\"Specificity:\", specificity_nb)\n",
        "print(\"Recall:\", recall_nb)\n",
        "print(\"AUC değeri:\", auc_nb)\n",
        "\n",
        "print(\"----------------------------------------------------------------------------------------\")\n",
        "\n",
        "## KNN\n",
        "\n",
        "y_pred_knn = grid.predict(X_test)\n",
        "print(f\"Classification report for KNN:\\n{classification_report(y_test, y_pred_knn)}\\n\")\n",
        "\n",
        "print(\"\\nSensitivity:\", sensitivity_knn)\n",
        "print(\"Specificity:\", specificity_knn)\n",
        "print(\"Recall:\", recall_knn)\n",
        "print(\"AUC Score:\", auc_knn)\n",
        "\n",
        "\n",
        "print(\"----------------------------------------------------------------------------------------\")\n",
        "\n",
        "## SVM\n",
        "\n",
        "y_pred_svm = grid.predict(X_test)\n",
        "print(f\"Classification report for SVM:\\n{classification_report(y_test, y_pred_svm)}\\n\")\n",
        "\n",
        "print(\"\\nSensitivity:\", sensitivity_svm)\n",
        "print(\"Specificity:\", specificity_svm)\n",
        "print(\"Recall:\", recall_svm)\n",
        "print(\"AUC değeri:\", auc_svm)\n",
        "\n",
        "print(\"----------------------------------------------------------------------------------------\")\n",
        "\n",
        "## MLP\n",
        "\n",
        "y_pred_mlp = grid_mlp.predict(X_test)\n",
        "print(f\"Classification report for MLP:\\n{classification_report(y_test, y_pred_mlp)}\\n\")\n",
        "\n",
        "print(\"\\nSensitivity:\", sensitivity_mlp)\n",
        "print(\"Specificity:\", specificity_mlp)\n",
        "print(\"Recall:\", recall_mlp)\n",
        "print(\"AUC değeri:\", auc_mlp)\n"
      ],
      "metadata": {
        "colab": {
          "base_uri": "https://localhost:8080/"
        },
        "id": "nt3Bo6cARWhc",
        "outputId": "168c42b4-1c21-4c90-f129-74c547295fb1"
      },
      "execution_count": 43,
      "outputs": [
        {
          "output_type": "stream",
          "name": "stdout",
          "text": [
            "Classification report for Naive Bayes:\n",
            "              precision    recall  f1-score   support\n",
            "\n",
            "           0       0.79      0.87      0.83       150\n",
            "           1       0.70      0.57      0.63        81\n",
            "\n",
            "    accuracy                           0.76       231\n",
            "   macro avg       0.74      0.72      0.73       231\n",
            "weighted avg       0.76      0.76      0.76       231\n",
            "\n",
            "\n",
            "\n",
            "Sensitivity: 0.5679012345679012\n",
            "Specificity: 0.8666666666666667\n",
            "Recall: 0.5679012345679012\n",
            "AUC değeri: 0.805843621399177\n",
            "----------------------------------------------------------------------------------------\n",
            "Classification report for KNN:\n",
            "              precision    recall  f1-score   support\n",
            "\n",
            "           0       0.77      0.90      0.83       150\n",
            "           1       0.73      0.49      0.59        81\n",
            "\n",
            "    accuracy                           0.76       231\n",
            "   macro avg       0.75      0.70      0.71       231\n",
            "weighted avg       0.75      0.76      0.74       231\n",
            "\n",
            "\n",
            "\n",
            "Sensitivity: 0.49382716049382713\n",
            "Specificity: 0.9\n",
            "Recall: 0.49382716049382713\n",
            "AUC Score: 0.7550617283950617\n",
            "----------------------------------------------------------------------------------------\n",
            "Classification report for SVM:\n",
            "              precision    recall  f1-score   support\n",
            "\n",
            "           0       0.77      0.90      0.83       150\n",
            "           1       0.73      0.49      0.59        81\n",
            "\n",
            "    accuracy                           0.76       231\n",
            "   macro avg       0.75      0.70      0.71       231\n",
            "weighted avg       0.75      0.76      0.74       231\n",
            "\n",
            "\n",
            "\n",
            "Sensitivity: 0.4444444444444444\n",
            "Specificity: 0.9066666666666666\n",
            "Recall: 0.4444444444444444\n",
            "AUC değeri: 0.8218106995884773\n",
            "----------------------------------------------------------------------------------------\n",
            "Classification report for MLP:\n",
            "              precision    recall  f1-score   support\n",
            "\n",
            "           0       0.78      0.86      0.82       150\n",
            "           1       0.68      0.54      0.60        81\n",
            "\n",
            "    accuracy                           0.75       231\n",
            "   macro avg       0.73      0.70      0.71       231\n",
            "weighted avg       0.74      0.75      0.74       231\n",
            "\n",
            "\n",
            "\n",
            "Sensitivity: 0.43209876543209874\n",
            "Specificity: 0.8066666666666666\n",
            "Recall: 0.43209876543209874\n",
            "AUC değeri: 0.7302057613168724\n"
          ]
        }
      ]
    },
    {
      "cell_type": "markdown",
      "source": [
        "# Yorum;\n",
        "\n",
        "- Naive Bayes, KNN, SVM ve MLP modelleri için sırasıyla %76, %76, %76 ve %75 doğruluk oranları elde edilmiştir. Modellerin doğruluk oranları birbirlerine oldukça yakın görünmektedir.\n",
        "\n",
        "- Naive Bayes, KNN ve SVM modelleri için sırasıyla %83, %83 ve %82 f1-score değerlerine sahipken, MLP modelinin f1-score değeri %82'dir. Bu, modellerin sınıflandırma yaparken sınıf dengesizliğiyle başa çıkmada benzer performans gösterdiğini göstermektedir.\n",
        "\n",
        "- Modellerin duyarlılık (sensitivity) ve özgüllük (specificity) değerleri incelendiğinde, Naive Bayes, KNN ve SVM modellerinin benzer duyarlılık ve özgüllük değerlerine sahip olduğu görülmektedir. Ancak MLP modeli, diğer modellere göre daha düşük duyarlılık ve özgüllük değerlerine sahiptir.\n",
        "\n",
        "- AUC değerleri incelendiğinde, SVM modelinin en yüksek AUC değerine sahip olduğu ve diğer modellere göre daha iyi bir performans sergilediği görülmektedir."
      ],
      "metadata": {
        "id": "k0MacnkSTlDF"
      }
    }
  ]
}